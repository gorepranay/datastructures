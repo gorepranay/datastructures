{
 "cells": [
  {
   "cell_type": "code",
   "execution_count": 25,
   "metadata": {
    "collapsed": false
   },
   "outputs": [],
   "source": [
    "# Implementing a Stack using base datastructure as list\n",
    "\n",
    "class ArrayImpl:\n",
    "    \n",
    "    def __init__(self):\n",
    "        self._data=[]\n",
    "    #Creating empty stack \n",
    "    \n",
    "    def push(self, element):\n",
    "        self._data.append(element)\n",
    "    #Pushing elements in a stack\n",
    "    \n",
    "    def is_empty(self):\n",
    "        return len(self._data) == 0\n",
    "    # check if list is empty, returns True if yes.\n",
    "    \n",
    "    def pop(self):\n",
    "        if self.is_empty():\n",
    "            raise IndexError(\"Stack is empty\")\n",
    "        top_element=self._data[-1]\n",
    "        del self._data[-1]\n",
    "        return top_element\n",
    "    \n",
    "    #Alterntively, we can use list internal function: pop()\n",
    "    \n",
    "    def top(self):\n",
    "        if self.is_empty():\n",
    "            raise Empty(\"Stack is empty\")\n",
    "        return self._data.pop()\n",
    "\n",
    "\n",
    "#Implementing queue in python\n",
    "\n",
    "class Queue:\n",
    "    def __init__(self):\n",
    "        self.data=[]\n",
    "        # Initiate a list\n",
    "    \n",
    "    def enqueue(self, element):\n",
    "        self.data.insert(0, element)\n",
    "        #Pushes data to first position and shift rest existing elements to right\n",
    "        \n",
    "    def dequeue(self):\n",
    "        if not self.size_of():\n",
    "            return self.data.pop()\n",
    "        return None\n",
    "        #Will pull the last element of the list\n",
    "        \n",
    "    def see(self):\n",
    "        return self.data\n",
    "    \n",
    "    def size_of(self):\n",
    "        return len(self.data) == 0\n",
    "\n"
   ]
  },
  {
   "cell_type": "code",
   "execution_count": null,
   "metadata": {
    "collapsed": true
   },
   "outputs": [],
   "source": []
  },
  {
   "cell_type": "code",
   "execution_count": 24,
   "metadata": {
    "collapsed": false
   },
   "outputs": [
    {
     "name": "stdout",
     "output_type": "stream",
     "text": [
      "[15, 10, 5]\n",
      "[15]\n",
      "None\n"
     ]
    }
   ],
   "source": []
  },
  {
   "cell_type": "code",
   "execution_count": null,
   "metadata": {
    "collapsed": true
   },
   "outputs": [],
   "source": []
  }
 ],
 "metadata": {
  "kernelspec": {
   "display_name": "Python 3",
   "language": "python",
   "name": "python3"
  },
  "language_info": {
   "codemirror_mode": {
    "name": "ipython",
    "version": 3
   },
   "file_extension": ".py",
   "mimetype": "text/x-python",
   "name": "python",
   "nbconvert_exporter": "python",
   "pygments_lexer": "ipython3",
   "version": "3.6.0"
  }
 },
 "nbformat": 4,
 "nbformat_minor": 2
}
