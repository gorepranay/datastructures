{
 "cells": [
  {
   "cell_type": "markdown",
   "metadata": {
    "graffitiCellId": "id_0qbquwe"
   },
   "source": [
    "### Problem Statement\n",
    "\n",
    "You are given the head of a linked list and two integers, `i` and `j`.\n",
    "You have to retain the first `i` nodes and then delete the next `j` nodes. Continue doing so until the end of the linked list. \n",
    "\n",
    "**Example:**\n",
    "* `linked-list = 1 2 3 4 5 6 7 8 9 10 11 12`\n",
    "* `i = 2`\n",
    "* `j = 3` \n",
    "* `Output = 1 2 6 7 11 12` \n"
   ]
  },
  {
   "cell_type": "code",
   "execution_count": 1,
   "metadata": {
    "graffitiCellId": "id_x5k7r8o"
   },
   "outputs": [],
   "source": [
    "# LinkedList Node class for your reference\n",
    "class Node:\n",
    "    def __init__(self, data):\n",
    "        self.data = data\n",
    "        self.next = None"
   ]
  },
  {
   "cell_type": "code",
   "execution_count": 2,
   "metadata": {
    "graffitiCellId": "id_rjkafju"
   },
   "outputs": [],
   "source": [
    "def skip_i_delete_j(head, i, j):\n",
    "    \"\"\"\n",
    "    :param: head - head of linked list\n",
    "    :param: i - first `i` nodes that are to be skipped\n",
    "    :param: j - next `j` nodes that are to be deleted\n",
    "    return - return the updated head of the linked list\n",
    "    \"\"\"\n",
    "\n",
    "    input_node = head\n",
    "    trim_link_list = None\n",
    "\n",
    "    position_counter = 1\n",
    "    i_mode = True\n",
    "    last_node = False\n",
    "\n",
    "    while not last_node:\n",
    "        if i_mode:  # Additive mode\n",
    "            if trim_link_list is None:\n",
    "                trim_link_list = Node(input_node.data)\n",
    "            else:\n",
    "                position_tail = trim_link_list\n",
    "                while position_tail.next:  # Moving to the end of the list\n",
    "                    position_tail = position_tail.next\n",
    "                position_tail.next = Node(input_node.data)\n",
    "\n",
    "            if position_counter == i:\n",
    "                i_mode = False\n",
    "                position_counter = 0\n",
    "\n",
    "        else:  # Non-additive mode\n",
    "            if position_counter == j:\n",
    "                i_mode = True\n",
    "                position_counter = 0\n",
    "\n",
    "        position_counter += 1\n",
    "        last_node = input_node.next is None\n",
    "        input_node = input_node.next\n",
    "\n",
    "    return trim_link_list"
   ]
  },
  {
   "cell_type": "markdown",
   "metadata": {
    "graffitiCellId": "id_u0u6fxe"
   },
   "source": [
    "<span class=\"graffiti-highlight graffiti-id_u0u6fxe-id_fydupf2\"><i></i><button>Show Solution</button></span>"
   ]
  },
  {
   "cell_type": "code",
   "execution_count": 3,
   "metadata": {
    "graffitiCellId": "id_jj92agc"
   },
   "outputs": [],
   "source": [
    "# helper functions for testing purpose\n",
    "def create_linked_list(arr):\n",
    "    if len(arr)==0:\n",
    "        return None\n",
    "    head = Node(arr[0])\n",
    "    tail = head\n",
    "    for data in arr[1:]:\n",
    "        tail.next = Node(data)\n",
    "        tail = tail.next\n",
    "    return head\n",
    "\n",
    "def print_linked_list(head):\n",
    "    while head:\n",
    "        print(head.data, end=' ')\n",
    "        head = head.next\n",
    "    print()"
   ]
  },
  {
   "cell_type": "code",
   "execution_count": 4,
   "metadata": {
    "graffitiCellId": "id_zbgrh5m"
   },
   "outputs": [],
   "source": [
    "def test_function(test_case):\n",
    "    head = test_case[0]\n",
    "    i = test_case[1]\n",
    "    j = test_case[2]\n",
    "    solution = test_case[3]\n",
    "        \n",
    "    temp = skip_i_delete_j(head, i, j)\n",
    "    index = 0\n",
    "    try:\n",
    "        while temp is not None:\n",
    "            if temp.data != solution[index]:\n",
    "                print(\"Fail\")\n",
    "                return\n",
    "            index += 1\n",
    "            temp = temp.next\n",
    "        print(\"Pass\")\n",
    "    except Exception as e:\n",
    "        print(\"Fail\")"
   ]
  },
  {
   "cell_type": "code",
   "execution_count": 5,
   "metadata": {
    "graffitiCellId": "id_3ubvhf7"
   },
   "outputs": [
    {
     "name": "stdout",
     "output_type": "stream",
     "text": [
      "Pass\n"
     ]
    }
   ],
   "source": [
    "arr = [1, 2, 3, 4, 5, 6, 7, 8, 9, 10, 11, 12]\n",
    "i = 2\n",
    "j = 2\n",
    "head = create_linked_list(arr)\n",
    "solution = [1, 2, 5, 6, 9, 10]\n",
    "test_case = [head, i, j, solution]\n",
    "test_function(test_case)"
   ]
  },
  {
   "cell_type": "code",
   "execution_count": 6,
   "metadata": {
    "graffitiCellId": "id_5kf8py2"
   },
   "outputs": [
    {
     "name": "stdout",
     "output_type": "stream",
     "text": [
      "Pass\n"
     ]
    }
   ],
   "source": [
    "arr = [1, 2, 3, 4, 5, 6, 7, 8, 9, 10, 11, 12]\n",
    "i = 2\n",
    "j = 3\n",
    "head = create_linked_list(arr)\n",
    "solution = [1, 2, 6, 7, 11, 12]\n",
    "test_case = [head, i, j, solution]\n",
    "test_function(test_case)"
   ]
  },
  {
   "cell_type": "code",
   "execution_count": 7,
   "metadata": {
    "graffitiCellId": "id_c81v4ae"
   },
   "outputs": [
    {
     "name": "stdout",
     "output_type": "stream",
     "text": [
      "Pass\n"
     ]
    }
   ],
   "source": [
    "arr = [1, 2, 3, 4, 5]\n",
    "i = 2\n",
    "j = 4\n",
    "head = create_linked_list(arr)\n",
    "solution = [1, 2]\n",
    "test_case = [head, i, j, solution]\n",
    "test_function(test_case)"
   ]
  }
 ],
 "metadata": {
  "graffiti": {
   "firstAuthorId": "dev",
   "id": "id_2oggofo",
   "language": "EN"
  },
  "kernelspec": {
   "display_name": "Python 3",
   "language": "python",
   "name": "python3"
  },
  "language_info": {
   "codemirror_mode": {
    "name": "ipython",
    "version": 3
   },
   "file_extension": ".py",
   "mimetype": "text/x-python",
   "name": "python",
   "nbconvert_exporter": "python",
   "pygments_lexer": "ipython3",
   "version": "3.6.3"
  }
 },
 "nbformat": 4,
 "nbformat_minor": 2
}
