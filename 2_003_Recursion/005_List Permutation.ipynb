{
 "cells": [
  {
   "cell_type": "markdown",
   "metadata": {
    "graffitiCellId": "id_op9zwiy"
   },
   "source": [
    "# Permutation"
   ]
  },
  {
   "cell_type": "markdown",
   "metadata": {
    "graffitiCellId": "id_h4gumy5"
   },
   "source": [
    "Let's use recursion to help us solve this permutation problem:\n",
    "\n",
    "Given a list of items, the goal is to find all of the permutations of that list. For example, if given a list like: `[\"apple\", \"water\"]`, you could create two permuations from it. One in the form of the original input and one in the reversed order like so: `[\"water\",\"apple\"]`"
   ]
  },
  {
   "cell_type": "code",
   "execution_count": 1,
   "metadata": {
    "graffitiCellId": "id_45biddl"
   },
   "outputs": [],
   "source": [
    "# Code\n",
    "\n",
    "import copy\n",
    "\n",
    "def permute(l):\n",
    "    \"\"\"\n",
    "    Return a list of permutations\n",
    "\n",
    "    Examples:\n",
    "       permute([0, 1]) returns [ [0, 1], [1, 0] ]\n",
    "\n",
    "    Args:\n",
    "      l(list): list of items to be permuted\n",
    "\n",
    "    Returns:\n",
    "      list of permutation with each permuted item being represented by a list\n",
    "    \"\"\"\n",
    "\n",
    "    if len(l) <= 1:\n",
    "        return [l]\n",
    "\n",
    "    elif len(l) == 2:\n",
    "        return [l, l[::-1]]\n",
    "\n",
    "    else:\n",
    "        output = []\n",
    "        current_level = l[0]\n",
    "        prev_level = permute(l[1:])\n",
    "\n",
    "        for element in prev_level:  # For each answer from previous level\n",
    "            for pos in range(len(element) + 1):  # For each possible position to put this level value\n",
    "                temp_list = []\n",
    "                temp_element = element.copy()\n",
    "                for i in range(len(element) + 1):\n",
    "                    if pos == i:\n",
    "                        temp_list.append(current_level)\n",
    "                    else:\n",
    "                        temp_list.append(temp_element.pop())\n",
    "                output.append(temp_list)\n",
    "        return output\n",
    "        "
   ]
  },
  {
   "cell_type": "code",
   "execution_count": 2,
   "metadata": {
    "graffitiCellId": "id_9kv3248"
   },
   "outputs": [
    {
     "name": "stdout",
     "output_type": "stream",
     "text": [
      "Pass\n",
      "Pass\n",
      "Pass\n",
      "Pass\n"
     ]
    }
   ],
   "source": [
    "# Test Cases \n",
    "\n",
    "# Helper Function\n",
    "def check_output(output, expected_output):\n",
    "    \"\"\"\n",
    "    Return True if output and expected_output\n",
    "    contains the same lists, False otherwise.\n",
    "    \n",
    "    Note that the ordering of the list is not important.\n",
    "    \n",
    "    Examples:\n",
    "        check_output([ [0, 1], [1, 0] ] ], [ [1, 0], [0, 1] ]) returns True\n",
    "\n",
    "    Args:\n",
    "        output(list): list of list\n",
    "        expected_output(list): list of list\n",
    "    \n",
    "    Returns:\n",
    "        bool\n",
    "    \"\"\"\n",
    "    o = copy.deepcopy(output)  # so that we don't mutate input\n",
    "    e = copy.deepcopy(expected_output)  # so that we don't mutate input\n",
    "    \n",
    "    o.sort()\n",
    "    e.sort()\n",
    "    return o == e\n",
    "\n",
    "print (\"Pass\" if  (check_output(permute([]), [[]])) else \"Fail\")\n",
    "print (\"Pass\" if  (check_output(permute([0]), [[0]])) else \"Fail\")\n",
    "print (\"Pass\" if  (check_output(permute([0, 1]), [[0, 1], [1, 0]])) else \"Fail\")\n",
    "print (\"Pass\" if  (check_output(permute([0, 1, 2]), [[0, 1, 2], [0, 2, 1], [1, 0, 2], [1, 2, 0], [2, 0, 1], [2, 1, 0]])) else \"Fail\")"
   ]
  },
  {
   "cell_type": "markdown",
   "metadata": {
    "graffitiCellId": "id_7mkz7sx"
   },
   "source": [
    "<span class=\"graffiti-highlight graffiti-id_7mkz7sx-id_al2wv3g\"><i></i><button>Show Solution</button></span>"
   ]
  }
 ],
 "metadata": {
  "graffiti": {
   "firstAuthorId": "10694620118",
   "id": "id_gm7n621",
   "language": "EN"
  },
  "kernelspec": {
   "display_name": "Python 3",
   "language": "python",
   "name": "python3"
  },
  "language_info": {
   "codemirror_mode": {
    "name": "ipython",
    "version": 3
   },
   "file_extension": ".py",
   "mimetype": "text/x-python",
   "name": "python",
   "nbconvert_exporter": "python",
   "pygments_lexer": "ipython3",
   "version": "3.6.3"
  }
 },
 "nbformat": 4,
 "nbformat_minor": 2
}
