{
 "cells": [
  {
   "cell_type": "markdown",
   "metadata": {
    "graffitiCellId": "id_1myd4mr"
   },
   "source": [
    "### Problem statement\n",
    "\n",
    "In an encryption system where ASCII lower case letters represent numbers in the pattern `a=1, b=2, c=3...` and so on, find out all the codes that are possible for a given input number. \n",
    "\n",
    "**Example 1**\n",
    "\n",
    "* `number = 123`\n",
    "* `codes_possible = [\"aw\", \"abc\", \"lc\"]`\n",
    "\n",
    "Explanation: The codes are for the following number:\n",
    "         \n",
    "* 1 . 23     = \"aw\"\n",
    "* 1 . 2 . 3  = \"abc\"\n",
    "* 12 . 3     = \"lc\"\n",
    "    \n",
    "\n",
    "**Example 2**  \n",
    "\n",
    "* `number = 145`\n",
    "* `codes_possible = [\"ade\", \"ne\"]`\n",
    "\n",
    "Return the codes in a list. The order of codes in the list is not important.\n",
    "\n",
    "*Note: you can assume that the input number will not contain any 0s*"
   ]
  },
  {
   "cell_type": "code",
   "execution_count": 1,
   "metadata": {
    "graffitiCellId": "id_v2stglr"
   },
   "outputs": [],
   "source": [
    "def get_alphabet(number):\n",
    "    \"\"\"\n",
    "    Helper function to figure out alphabet of a particular number\n",
    "    Remember: \n",
    "        * ASCII for lower case 'a' = 97\n",
    "        * chr(num) returns ASCII character for a number e.g. chr(65) ==> 'A'\n",
    "    \"\"\"\n",
    "    return chr(number + 96)\n",
    "\n",
    "def all_codes(number):\n",
    "    if number == 0:\n",
    "        return [\"\"]\n",
    "    \n",
    "    # calculation for two right-most digits e.g. if number = 1123, this calculation is meant for 23\n",
    "    remainder = number % 100\n",
    "    output_100 = list()\n",
    "    if remainder <= 26 and number > 9 :\n",
    "        \n",
    "        # get all codes for the remaining number\n",
    "        output_100 = all_codes(number // 100)\n",
    "        alphabet = get_alphabet(remainder)\n",
    "        \n",
    "        for index, element in enumerate(output_100):\n",
    "            output_100[index] = element + alphabet\n",
    "    \n",
    "    # calculation for right-most digit e.g. if number = 1123, this calculation is meant for 3\n",
    "    remainder = number % 10\n",
    "    \n",
    "    # get all codes for the remaining number\n",
    "    output_10 = all_codes(number // 10)\n",
    "    alphabet = get_alphabet(remainder)\n",
    "    \n",
    "    for index, element in enumerate(output_10):\n",
    "        output_10[index] = element + alphabet\n",
    "        \n",
    "    output = list()\n",
    "    output.extend(output_100)\n",
    "    output.extend(output_10)\n",
    "    \n",
    "    return output"
   ]
  },
  {
   "cell_type": "markdown",
   "metadata": {
    "graffitiCellId": "id_q8i2zj9"
   },
   "source": [
    "<span class=\"graffiti-highlight graffiti-id_q8i2zj9-id_yrg0ir2\"><i></i><button>Show Solution</button></span>"
   ]
  },
  {
   "cell_type": "code",
   "execution_count": 2,
   "metadata": {
    "graffitiCellId": "id_byos91q"
   },
   "outputs": [],
   "source": [
    "def test_function(test_case):\n",
    "    number = test_case[0]\n",
    "    solution = test_case[1]\n",
    "    \n",
    "    output = all_codes(number)\n",
    "    \n",
    "    output.sort()\n",
    "    solution.sort()\n",
    "    \n",
    "    if output == solution:\n",
    "        print(\"Pass\")\n",
    "    else:\n",
    "        print(\"Fail\")"
   ]
  },
  {
   "cell_type": "code",
   "execution_count": 3,
   "metadata": {
    "graffitiCellId": "id_l3o11vy"
   },
   "outputs": [
    {
     "name": "stdout",
     "output_type": "stream",
     "text": [
      "Pass\n"
     ]
    }
   ],
   "source": [
    "number = 123\n",
    "solution = ['abc', 'aw', 'lc']\n",
    "test_case = [number, solution]\n",
    "test_function(test_case)"
   ]
  },
  {
   "cell_type": "code",
   "execution_count": 4,
   "metadata": {
    "graffitiCellId": "id_a5y5trj"
   },
   "outputs": [
    {
     "name": "stdout",
     "output_type": "stream",
     "text": [
      "Pass\n"
     ]
    }
   ],
   "source": [
    "number = 145\n",
    "solution =  ['ade', 'ne']\n",
    "test_case = [number, solution]\n",
    "test_function(test_case)"
   ]
  },
  {
   "cell_type": "code",
   "execution_count": 5,
   "metadata": {
    "graffitiCellId": "id_ujafvah"
   },
   "outputs": [
    {
     "name": "stdout",
     "output_type": "stream",
     "text": [
      "Pass\n"
     ]
    }
   ],
   "source": [
    "number = 1145\n",
    "solution =  ['aade', 'ane', 'kde']\n",
    "test_case = [number, solution]\n",
    "test_function(test_case)"
   ]
  },
  {
   "cell_type": "code",
   "execution_count": 6,
   "metadata": {
    "graffitiCellId": "id_6d1dxt9"
   },
   "outputs": [
    {
     "name": "stdout",
     "output_type": "stream",
     "text": [
      "Pass\n"
     ]
    }
   ],
   "source": [
    "number = 4545\n",
    "solution = ['dede']\n",
    "test_case = [number, solution]\n",
    "test_function(test_case)"
   ]
  }
 ],
 "metadata": {
  "graffiti": {
   "firstAuthorId": "dev",
   "id": "id_kdfaoy8",
   "language": "EN"
  },
  "kernelspec": {
   "display_name": "Python 3",
   "language": "python",
   "name": "python3"
  },
  "language_info": {
   "codemirror_mode": {
    "name": "ipython",
    "version": 3
   },
   "file_extension": ".py",
   "mimetype": "text/x-python",
   "name": "python",
   "nbconvert_exporter": "python",
   "pygments_lexer": "ipython3",
   "version": "3.6.3"
  }
 },
 "nbformat": 4,
 "nbformat_minor": 2
}
