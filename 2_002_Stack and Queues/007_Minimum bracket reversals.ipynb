{
 "cells": [
  {
   "cell_type": "markdown",
   "metadata": {
    "graffitiCellId": "id_vxtrcg7"
   },
   "source": [
    "### Problem Statement\n",
    "\n",
    "Given an input string consisting of only `{` and `}`, figure out the minimum number of reversals required to make the brackets balanced.\n",
    "\n",
    "For example:\n",
    "* For `input_string = \"}}}}`, the number of reversals required is `2`.\n",
    "\n",
    "\n",
    "* For `input_string = \"}{}}`, the number of reversals required is `1`.\n",
    "\n",
    "\n",
    "If the brackets cannot be balanced, return `-1` to indicate that it is not possible to balance them."
   ]
  },
  {
   "cell_type": "code",
   "execution_count": 1,
   "metadata": {
    "graffitiCellId": "id_jlfcw5k"
   },
   "outputs": [],
   "source": [
    "class LinkedListNode:\n",
    "\n",
    "    def __init__(self, data):\n",
    "        self.data = data\n",
    "        self.next = None\n",
    "\n",
    "class Stack:\n",
    "\n",
    "    def __init__(self):\n",
    "        self.num_elements = 0\n",
    "        self.head = None\n",
    "\n",
    "    def push(self, data):\n",
    "        new_node = LinkedListNode(data)\n",
    "        if self.head is None:\n",
    "            self.head = new_node\n",
    "        else:\n",
    "            new_node.next = self.head\n",
    "            self.head = new_node\n",
    "        self.num_elements += 1\n",
    "\n",
    "    def pop(self):\n",
    "        if self.is_empty():\n",
    "            return None\n",
    "        temp = self.head.data\n",
    "        self.head = self.head.next\n",
    "        self.num_elements -= 1\n",
    "        return temp\n",
    "\n",
    "    def top(self):\n",
    "        if self.head is None:\n",
    "            return None\n",
    "        return self.head.data\n",
    "\n",
    "    def size(self):\n",
    "        return self.num_elements\n",
    "\n",
    "    def is_empty(self):\n",
    "        return self.num_elements == 0\n"
   ]
  },
  {
   "cell_type": "code",
   "execution_count": 2,
   "metadata": {
    "graffitiCellId": "id_8y5l66z"
   },
   "outputs": [],
   "source": [
    "def minimum_bracket_reversals(input_string):\n",
    "    \"\"\"\n",
    "    Calculate the number of reversals to fix the brackets\n",
    "\n",
    "    Args:\n",
    "       input_string(string): Strings to be used for bracket reversal calculation\n",
    "    Returns:\n",
    "       int: Number of bracket reversals needed\n",
    "    \"\"\"\n",
    "\n",
    "    # Correcting extreme cases\n",
    "    extra_movements = 0\n",
    "\n",
    "    if input_string[0] == '}':\n",
    "        input_string = '{' + input_string[1:]\n",
    "        extra_movements += 1\n",
    "    if input_string[len(input_string)-1] == '{':\n",
    "        input_string = input_string[:len(input_string)-1] + '}'\n",
    "        extra_movements += 1\n",
    "\n",
    "    prev_char = '-'\n",
    "\n",
    "    # Cases that match\n",
    "    if len(input_string) % 2 != 0:  # Non even length cases can never be balanced\n",
    "        return -1\n",
    "\n",
    "    else:\n",
    "        stack = Stack()\n",
    "\n",
    "        for char in input_string:\n",
    "            if prev_char+char == '{}':\n",
    "                _ = stack.pop()\n",
    "                prev_char = stack.top()\n",
    "                \n",
    "                if stack.size() == 0:\n",
    "                    prev_char = '-'\n",
    "            else:\n",
    "                stack.push(char)\n",
    "                prev_char = char\n",
    "\n",
    "    return int(stack.size()/2) + extra_movements"
   ]
  },
  {
   "cell_type": "code",
   "execution_count": 3,
   "metadata": {
    "graffitiCellId": "id_z5q6m05"
   },
   "outputs": [],
   "source": [
    "def test_function(test_case):\n",
    "    input_string = test_case[0]\n",
    "    expected_output = test_case[1]\n",
    "    output = minimum_bracket_reversals(input_string)\n",
    "    \n",
    "    if output == expected_output:\n",
    "        print(\"Pass\")\n",
    "    else:\n",
    "        print(\"Fail\")\n"
   ]
  },
  {
   "cell_type": "code",
   "execution_count": 4,
   "metadata": {
    "graffitiCellId": "id_y67zaj9"
   },
   "outputs": [
    {
     "name": "stdout",
     "output_type": "stream",
     "text": [
      "Pass\n"
     ]
    }
   ],
   "source": [
    "test_case_1 = [\"}}}}\", 2]\n",
    "test_function(test_case_1)"
   ]
  },
  {
   "cell_type": "code",
   "execution_count": 5,
   "metadata": {
    "graffitiCellId": "id_yt04y7c"
   },
   "outputs": [
    {
     "name": "stdout",
     "output_type": "stream",
     "text": [
      "Pass\n"
     ]
    }
   ],
   "source": [
    "test_case_2 = [\"}}{{\", 2]          \n",
    "test_function(test_case_2)"
   ]
  },
  {
   "cell_type": "code",
   "execution_count": 6,
   "metadata": {
    "graffitiCellId": "id_m8kpqt1"
   },
   "outputs": [
    {
     "name": "stdout",
     "output_type": "stream",
     "text": [
      "Pass\n"
     ]
    }
   ],
   "source": [
    "test_case_3 = [\"{{{{{{{{{{{{{{{{{{{{{{{{{{{{{{{}}}}}\", 13]\n",
    "\n",
    "test_function(test_case_1)"
   ]
  },
  {
   "cell_type": "code",
   "execution_count": 7,
   "metadata": {
    "graffitiCellId": "id_mp0csx6"
   },
   "outputs": [
    {
     "name": "stdout",
     "output_type": "stream",
     "text": [
      "Pass\n"
     ]
    }
   ],
   "source": [
    "test_case_4= [\"}{}{}{}{}{}{}{}{}{}{}{}{}{}{}{\", 2]\n",
    "test_function(test_case_2)"
   ]
  },
  {
   "cell_type": "code",
   "execution_count": 8,
   "metadata": {
    "graffitiCellId": "id_1732mey"
   },
   "outputs": [
    {
     "name": "stdout",
     "output_type": "stream",
     "text": [
      "Pass\n"
     ]
    }
   ],
   "source": [
    "test_case_5 = [\"}}{}{}{}{}{}{}{}{}{}{}{}{}{}{}\", 1]\n",
    "\n",
    "test_function(test_case_3)"
   ]
  },
  {
   "cell_type": "markdown",
   "metadata": {
    "graffitiCellId": "id_nswj6h2"
   },
   "source": [
    "<span class=\"graffiti-highlight graffiti-id_nswj6h2-id_mclvpey\"><i></i><button>Show Solution</button></span>"
   ]
  }
 ],
 "metadata": {
  "graffiti": {
   "firstAuthorId": "10694620118",
   "id": "id_m05og16",
   "language": "EN"
  },
  "kernelspec": {
   "display_name": "Python 3",
   "language": "python",
   "name": "python3"
  },
  "language_info": {
   "codemirror_mode": {
    "name": "ipython",
    "version": 3
   },
   "file_extension": ".py",
   "mimetype": "text/x-python",
   "name": "python",
   "nbconvert_exporter": "python",
   "pygments_lexer": "ipython3",
   "version": "3.6.3"
  }
 },
 "nbformat": 4,
 "nbformat_minor": 2
}
